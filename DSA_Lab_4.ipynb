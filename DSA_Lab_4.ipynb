{
  "nbformat": 4,
  "nbformat_minor": 0,
  "metadata": {
    "colab": {
      "provenance": [],
      "authorship_tag": "ABX9TyMucy44V8FLkGtBtkCsfc6f",
      "include_colab_link": true
    },
    "kernelspec": {
      "name": "python3",
      "display_name": "Python 3"
    },
    "language_info": {
      "name": "python"
    }
  },
  "cells": [
    {
      "cell_type": "markdown",
      "metadata": {
        "id": "view-in-github",
        "colab_type": "text"
      },
      "source": [
        "<a href=\"https://colab.research.google.com/github/NicolasJasonDL/58009-DSAA/blob/main/DSA_Lab_4.ipynb\" target=\"_parent\"><img src=\"https://colab.research.google.com/assets/colab-badge.svg\" alt=\"Open In Colab\"/></a>"
      ]
    },
    {
      "cell_type": "code",
      "source": [
        "import random\n",
        "uppercase = 'ABCDEFGHIJKLMNOPQRSTUVWXYZ'\n",
        "lowercase = 'abcdefghijklmnopqrstuvwxyz'\n",
        "def encode(cleartext):\n",
        "    global lowercase\n",
        "    global uppercase\n",
        "    words = cleartext\n",
        "    codedtext = \"\"\n",
        "    for char in words:\n",
        "        if char in uppercase:\n",
        "            newpos = (uppercase.find(char) + 13) % 26\n",
        "            codedtext += uppercase[newpos]\n",
        "        elif char in lowercase:\n",
        "            newpos = (lowercase.find(char) + 13) % 26\n",
        "            codedtext += lowercase[newpos]\n",
        "        else:\n",
        "            codedtext += char\n",
        "    codedtext = lowercase[random.randrange(len(lowercase) - 1)] + codedtext + lowercase[random.randrange(len(lowercase) - 1)]\n",
        "    return codedtext\n",
        "def decode(cleartext):\n",
        "    global lowercase\n",
        "    global uppercase\n",
        "    words = cleartext.replace(cleartext[len(cleartext) - 1], \"\")\n",
        "    words = words.replace(words[0], \"\")\n",
        "    codedtext = \"\"\n",
        "    for char in words:\n",
        "        if char in uppercase:\n",
        "            newpos = (uppercase.find(char) + 13) % 26\n",
        "            codedtext += uppercase[newpos]\n",
        "        elif char in lowercase:\n",
        "            newpos = (lowercase.find(char) + 13) % 26\n",
        "            codedtext += lowercase[newpos]\n",
        "        else:\n",
        "            codedtext += char\n",
        "    return codedtext\n",
        "print(\"Julias Ceasar 13 letter shift\")\n",
        "def men():\n",
        "    words = input(\"Would you like to decode or encode or stop: \")\n",
        "\n",
        "\n",
        "    if \"decode\" in words:\n",
        "        words = input(\"What would you like to decode: \")\n",
        "        print(decode(words))\n",
        "        print('\\n')\n",
        "        men()\n",
        "\n",
        "    elif \"encode\" in words:\n",
        "        words = input(\"What would you like to encode: \")\n",
        "        print(encode(words))\n",
        "        print('\\n')\n",
        "        men()\n",
        "\n",
        "    for stop in words:\n",
        "      if words == \"stop\":\n",
        "        break\n",
        "        print('Program stopped')\n",
        "        men()\n",
        "\n",
        "      else:\n",
        "        print(\"Could not understand please try again\")\n",
        "        print('\\n')\n",
        "        men()\n",
        "\n",
        "if __name__ == \"__main__\":\n",
        "    men()"
      ],
      "metadata": {
        "colab": {
          "base_uri": "https://localhost:8080/"
        },
        "id": "9Y9rbT-J7ahR",
        "outputId": "9ccdf520-0e83-4d6a-f6d3-c7ddd5e6dad2"
      },
      "execution_count": null,
      "outputs": [
        {
          "output_type": "stream",
          "name": "stdout",
          "text": [
            "Julias Ceasar 13 letter shift\n",
            "Would you like to decode or encode or stop: encode\n",
            "What would you like to encode: Fifty Miles Away\n",
            "wSvsgl Zvyrf Njnlm\n",
            "\n",
            "\n",
            "Would you like to decode or encode or stop: decode\n",
            "What would you like to decode: wSvsgl Zvyrf Njnlm\n",
            "Fifty Miles Away\n",
            "\n",
            "\n"
          ]
        }
      ]
    }
  ]
}