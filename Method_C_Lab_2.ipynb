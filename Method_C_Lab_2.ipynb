{
  "cells": [
    {
      "cell_type": "markdown",
      "metadata": {
        "id": "view-in-github",
        "colab_type": "text"
      },
      "source": [
        "<a href=\"https://colab.research.google.com/github/NicolasJasonDL/58009-DSAA/blob/main/Method_C_Lab_2.ipynb\" target=\"_parent\"><img src=\"https://colab.research.google.com/assets/colab-badge.svg\" alt=\"Open In Colab\"/></a>"
      ]
    },
    {
      "cell_type": "code",
      "execution_count": 42,
      "metadata": {
        "colab": {
          "base_uri": "https://localhost:8080/"
        },
        "id": "0gUYi1ley6ZN",
        "outputId": "1c1cf329-5c7d-4e17-8768-53dbf96bb43d"
      },
      "outputs": [
        {
          "output_type": "stream",
          "name": "stdout",
          "text": [
            "1\n",
            "9\n"
          ]
        }
      ],
      "source": [
        "def MinRec(d):\n",
        "\n",
        "  if len(d) == 1:\n",
        "    return d[0]\n",
        "\n",
        "  if len(d) == 0:\n",
        "    return None\n",
        "\n",
        "  return min(d[0], MinRec(d[1:]))\n",
        "\n",
        "def MaxRec(d):\n",
        "\n",
        "  if len(d) == 1:\n",
        "    return d[0]\n",
        "\n",
        "  if len(d) == 0:\n",
        "    return None\n",
        "\n",
        "  return max(d[0], MaxRec(d[1:]))\n",
        "\n",
        "print(MinRec([1, 2, 3, 4, 5, 6, 7, 8, 9]))\n",
        "print(MaxRec([1, 2, 3, 4, 5, 6, 7, 8, 9]))"
      ]
    }
  ],
  "metadata": {
    "colab": {
      "provenance": [],
      "authorship_tag": "ABX9TyMyoIQpxmgUpd+b8ufCW1AP",
      "include_colab_link": true
    },
    "kernelspec": {
      "display_name": "Python 3",
      "name": "python3"
    },
    "language_info": {
      "name": "python"
    }
  },
  "nbformat": 4,
  "nbformat_minor": 0
}