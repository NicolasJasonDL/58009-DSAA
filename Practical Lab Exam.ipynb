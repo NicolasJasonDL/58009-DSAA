{
  "nbformat": 4,
  "nbformat_minor": 0,
  "metadata": {
    "colab": {
      "provenance": [],
      "authorship_tag": "ABX9TyNO93Rusd15jj4UBrVeV8i7",
      "include_colab_link": true
    },
    "kernelspec": {
      "name": "python3",
      "display_name": "Python 3"
    },
    "language_info": {
      "name": "python"
    }
  },
  "cells": [
    {
      "cell_type": "markdown",
      "metadata": {
        "id": "view-in-github",
        "colab_type": "text"
      },
      "source": [
        "<a href=\"https://colab.research.google.com/github/NicolasJasonDL/58009-DSAA/blob/main/Practical%20Lab%20Exam.ipynb\" target=\"_parent\"><img src=\"https://colab.research.google.com/assets/colab-badge.svg\" alt=\"Open In Colab\"/></a>"
      ]
    },
    {
      "cell_type": "code",
      "execution_count": 29,
      "metadata": {
        "colab": {
          "base_uri": "https://localhost:8080/"
        },
        "id": "9HAqrWHEaSmF",
        "outputId": "bbc406d6-ccc2-402c-a36d-2429a6ac89ef"
      },
      "outputs": [
        {
          "output_type": "stream",
          "name": "stdout",
          "text": [
            "The sum of all odd numbers is:  211\n"
          ]
        }
      ],
      "source": [
        "TestScores = [26, 49, 98, 87, 62, 75]\n",
        "\n",
        "def addOddNumbers(TestScores):\n",
        "  total = 0\n",
        "  for i in TestScores:\n",
        "    if i % 2  == 1:\n",
        "      total += i\n",
        "  return total\n",
        "\n",
        "print(\"The sum of all odd numbers is: \", addOddNumbers(TestScores))"
      ]
    },
    {
      "cell_type": "code",
      "source": [],
      "metadata": {
        "id": "flBR6Fumae6Y"
      },
      "execution_count": null,
      "outputs": []
    }
  ]
}