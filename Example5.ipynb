{
  "nbformat": 4,
  "nbformat_minor": 0,
  "metadata": {
    "colab": {
      "provenance": [],
      "authorship_tag": "ABX9TyNA3KOab7dCaq6QbOyLKNGM",
      "include_colab_link": true
    },
    "kernelspec": {
      "name": "python3",
      "display_name": "Python 3"
    },
    "language_info": {
      "name": "python"
    }
  },
  "cells": [
    {
      "cell_type": "markdown",
      "metadata": {
        "id": "view-in-github",
        "colab_type": "text"
      },
      "source": [
        "<a href=\"https://colab.research.google.com/github/NicolasJasonDL/58009-DSAA/blob/main/Example5.ipynb\" target=\"_parent\"><img src=\"https://colab.research.google.com/assets/colab-badge.svg\" alt=\"Open In Colab\"/></a>"
      ]
    },
    {
      "cell_type": "code",
      "execution_count": 12,
      "metadata": {
        "id": "grwKGj5E1GF6"
      },
      "outputs": [],
      "source": [
        "class Node:\n",
        "\n",
        "  def __init__(self, data):\n",
        "    self.data = data\n",
        "    self.next = None\n",
        "\n",
        "class LinkedList:\n",
        "  def __init__(self):\n",
        "    self.head = None\n",
        "\n",
        "  def traverse(self):\n",
        "    current = self.head\n",
        "    count = 0\n",
        "    while current:\n",
        "      count += 1\n",
        "      current = current.next\n",
        "    return count\n",
        "\n",
        "  def printList(self):\n",
        "    temp = self.head\n",
        "    while (temp):\n",
        "      print (temp.data, \" \", end = \"\\n\")\n",
        "      temp = temp.next\n",
        "    print(\"\")\n",
        "\n",
        "  def insert_at_head(self, data):\n",
        "    new_node = Node(2)\n",
        "    new_node.next = self.head\n",
        "    self.head = new_node\n",
        "\n",
        "  def get_next (self, node):\n",
        "    return node.next.data"
      ]
    },
    {
      "cell_type": "code",
      "source": [
        "if __name__ == '__main__':\n",
        "\n",
        "  llist = LinkedList()\n",
        "\n",
        "  llist.head = Node(1)\n",
        "  second = Node(2)\n",
        "  third = Node(3)\n",
        "  fourth = Node(2)\n",
        "  fifth = Node(1)\n",
        "  llist.head.next = second;\n",
        "  second.next = third;\n",
        "  third.next = fourth;\n",
        "  fourth.next = fifth;\n",
        "  llist.printList()"
      ],
      "metadata": {
        "colab": {
          "base_uri": "https://localhost:8080/"
        },
        "id": "C7fesoFG1eIa",
        "outputId": "9564b405-b5af-43b4-ba68-3367f80dca66"
      },
      "execution_count": 13,
      "outputs": [
        {
          "output_type": "stream",
          "name": "stdout",
          "text": [
            "1  \n",
            "2  \n",
            "3  \n",
            "2  \n",
            "1  \n",
            "\n"
          ]
        }
      ]
    }
  ]
}