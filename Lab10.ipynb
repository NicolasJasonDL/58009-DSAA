{
  "nbformat": 4,
  "nbformat_minor": 0,
  "metadata": {
    "colab": {
      "provenance": [],
      "authorship_tag": "ABX9TyPGSv9h3rgen4oUjpxKqGRw",
      "include_colab_link": true
    },
    "kernelspec": {
      "name": "python3",
      "display_name": "Python 3"
    },
    "language_info": {
      "name": "python"
    }
  },
  "cells": [
    {
      "cell_type": "markdown",
      "metadata": {
        "id": "view-in-github",
        "colab_type": "text"
      },
      "source": [
        "<a href=\"https://colab.research.google.com/github/NicolasJasonDL/58009-DSAA/blob/main/Lab10.ipynb\" target=\"_parent\"><img src=\"https://colab.research.google.com/assets/colab-badge.svg\" alt=\"Open In Colab\"/></a>"
      ]
    },
    {
      "cell_type": "code",
      "source": [
        "class BinaryTree:\n",
        "    def __init__(self, item):\n",
        "        self.left = None\n",
        "        self.right = None\n",
        "        self.val = item\n",
        "\n",
        "\n",
        "def inorder(root):\n",
        "\n",
        "    if root:\n",
        "        # Traverse left\n",
        "        inorder(root.left)\n",
        "        # Traverse root\n",
        "        print(str(root.val) + \"->\", end='')\n",
        "        # Traverse right\n",
        "        inorder(root.right)\n",
        "\n",
        "\n",
        "def postorder(root):\n",
        "\n",
        "    if root:\n",
        "        # Traverse left\n",
        "        postorder(root.left)\n",
        "        # Traverse right\n",
        "        postorder(root.right)\n",
        "        # Traverse root\n",
        "        print(str(root.val) + \"->\", end='')\n",
        "\n",
        "\n",
        "def preorder(root):\n",
        "\n",
        "    if root:\n",
        "        # Traverse root\n",
        "        print(str(root.val) + \"->\", end='')\n",
        "        # Traverse left\n",
        "        preorder(root.left)\n",
        "        # Traverse right\n",
        "        preorder(root.right)\n",
        "\n",
        "\n",
        "root = BinaryTree(0)\n",
        "root.left = BinaryTree(1)\n",
        "root.right = BinaryTree(6)\n",
        "root.left.left = BinaryTree(2)\n",
        "root.left.right = BinaryTree(3)\n",
        "root.right.left = BinaryTree(7)\n",
        "root.right.right = BinaryTree(9)\n",
        "\n",
        "print(\"Pre-order traversal \")\n",
        "preorder(root)\n",
        "\n",
        "print(\"\\nIn-order traversal \")\n",
        "inorder(root)\n",
        "\n",
        "print(\"\\nPost-order traversal \")\n",
        "postorder(root)"
      ],
      "metadata": {
        "colab": {
          "base_uri": "https://localhost:8080/"
        },
        "id": "-kwm9sq7Qm2n",
        "outputId": "f18ce0ce-4299-4575-904d-c414ed40a7d0"
      },
      "execution_count": 19,
      "outputs": [
        {
          "output_type": "stream",
          "name": "stdout",
          "text": [
            "Pre-order traversal \n",
            "0->1->2->3->6->7->9->\n",
            "In-order traversal \n",
            "2->1->3->0->7->6->9->\n",
            "Post-order traversal \n",
            "2->3->1->7->9->6->0->"
          ]
        }
      ]
    }
  ]
}