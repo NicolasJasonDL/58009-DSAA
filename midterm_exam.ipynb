{
  "nbformat": 4,
  "nbformat_minor": 0,
  "metadata": {
    "colab": {
      "provenance": [],
      "authorship_tag": "ABX9TyOq8cgjFqsSY18RxSkMzeHF",
      "include_colab_link": true
    },
    "kernelspec": {
      "name": "python3",
      "display_name": "Python 3"
    },
    "language_info": {
      "name": "python"
    }
  },
  "cells": [
    {
      "cell_type": "markdown",
      "metadata": {
        "id": "view-in-github",
        "colab_type": "text"
      },
      "source": [
        "<a href=\"https://colab.research.google.com/github/NicolasJasonDL/58009-DSAA/blob/main/midterm_exam.ipynb\" target=\"_parent\"><img src=\"https://colab.research.google.com/assets/colab-badge.svg\" alt=\"Open In Colab\"/></a>"
      ]
    },
    {
      "cell_type": "code",
      "execution_count": 23,
      "metadata": {
        "id": "fZiPD-zuOFrc"
      },
      "outputs": [],
      "source": [
        "class Array:\n",
        "\n",
        "  def __init__(self, gdict=None):\n",
        "    vertices_edges = {\n",
        "  'A': ['B'],\n",
        "  'B': ['E', 'F'],\n",
        "  'C': ['B', 'F', 'E', 'D', 'M', 'I'],\n",
        "  'D': ['C', 'L', 'K'],\n",
        "  'E': ['B', 'N', 'C'],\n",
        "  'F': ['B', 'C', 'G', 'I'],\n",
        "  'G': ['F', 'I', 'J'],\n",
        "  'I': ['C', 'F', 'J', 'G', 'K'],\n",
        "  'J': ['I', 'G', 'K'],\n",
        "  'K': ['D', 'I', 'J'],\n",
        "  'L': ['D', 'P', 'M'],\n",
        "  'M': ['C', 'N', 'P', 'O'],\n",
        "  'N': ['M', 'O'],\n",
        "  'O': ['M', 'N', 'P'],\n",
        "  'P': ['O', 'M']\n",
        "    }\n",
        "\n",
        "  def edges (self):\n",
        "    return self.getedges()\n",
        "\n",
        "  def getedges(self):\n",
        "    gdict ="
      ]
    }
  ]
}