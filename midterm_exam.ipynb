{
  "nbformat": 4,
  "nbformat_minor": 0,
  "metadata": {
    "colab": {
      "provenance": [],
      "authorship_tag": "ABX9TyOk5TlSwPi1XZoYlAY7Pshr",
      "include_colab_link": true
    },
    "kernelspec": {
      "name": "python3",
      "display_name": "Python 3"
    },
    "language_info": {
      "name": "python"
    }
  },
  "cells": [
    {
      "cell_type": "markdown",
      "metadata": {
        "id": "view-in-github",
        "colab_type": "text"
      },
      "source": [
        "<a href=\"https://colab.research.google.com/github/NicolasJasonDL/58009-DSAA/blob/main/midterm_exam.ipynb\" target=\"_parent\"><img src=\"https://colab.research.google.com/assets/colab-badge.svg\" alt=\"Open In Colab\"/></a>"
      ]
    },
    {
      "cell_type": "code",
      "execution_count": 25,
      "metadata": {
        "colab": {
          "base_uri": "https://localhost:8080/"
        },
        "id": "fZiPD-zuOFrc",
        "outputId": "d867fe47-577e-48c5-d8b0-8f246dedca18"
      },
      "outputs": [
        {
          "output_type": "stream",
          "name": "stdout",
          "text": [
            "[{'A', 'B'}, {'E', 'B'}, {'F', 'B'}, {'B', 'C'}, {'F', 'C'}, {'E', 'C'}, {'D', 'C'}, {'M', 'C'}, {'I', 'C'}, {'D', 'L'}, {'D', 'K'}, {'E', 'N'}, {'F', 'G'}, {'F', 'I'}, {'I', 'G'}, {'J', 'G'}, {'I', 'J'}, {'K', 'I'}, {'K', 'J'}, {'P', 'L'}, {'M', 'L'}, {'M', 'N'}, {'M', 'P'}, {'M', 'O'}, {'O', 'N'}, {'P', 'O'}]\n"
          ]
        }
      ],
      "source": [
        "#Display Graph Edges\n",
        "\n",
        "class graph:\n",
        "   def __init__(self,gdict=None):\n",
        "      if gdict is None:\n",
        "         gdict = {}\n",
        "      self.gdict = gdict\n",
        "\n",
        "   def edges(self):\n",
        "      return self.findedges()\n",
        "# Find the distinct list of edges\n",
        "   def findedges(self):\n",
        "      edgename = []\n",
        "      for vrtx in self.gdict:\n",
        "         for nxtvrtx in self.gdict[vrtx]:\n",
        "            if {nxtvrtx, vrtx} not in edgename:\n",
        "               edgename.append({vrtx, nxtvrtx})\n",
        "      return edgename\n",
        "# Create the dictionary with graph elements\n",
        "graph_elements = {\n",
        "  'A': ['B'],\n",
        "  'B': ['E', 'F'],\n",
        "  'C': ['B', 'F', 'E', 'D', 'M', 'I'],\n",
        "  'D': ['C', 'L', 'K'],\n",
        "  'E': ['B', 'N', 'C'],\n",
        "  'F': ['B', 'C', 'G', 'I'],\n",
        "  'G': ['F', 'I', 'J'],\n",
        "  'I': ['C', 'F', 'J', 'G', 'K'],\n",
        "  'J': ['I', 'G', 'K'],\n",
        "  'K': ['D', 'I', 'J'],\n",
        "  'L': ['D', 'P', 'M'],\n",
        "  'M': ['C', 'N', 'P', 'O'],\n",
        "  'N': ['M', 'O'],\n",
        "  'O': ['M', 'N', 'P'],\n",
        "  'P': ['O', 'M']\n",
        "}\n",
        "g = graph(graph_elements)\n",
        "print(g.edges())\n"
      ]
    },
    {
      "cell_type": "code",
      "source": [
        "#Display Graph Vertices\n",
        "\n",
        "class graph:\n",
        "   def __init__(self,gdict=None):\n",
        "      if gdict is None:\n",
        "         gdict = []\n",
        "      self.gdict = gdict\n",
        "# Get the keys of the dictionary\n",
        "   def getVertices(self):\n",
        "      return list(self.gdict.keys())\n",
        "# Create the dictionary with graph elements\n",
        "graph_elements = {\n",
        "  'A': ['B'],\n",
        "  'B': ['E', 'F'],\n",
        "  'C': ['B', 'F', 'E', 'D', 'M', 'I'],\n",
        "  'D': ['C', 'L', 'K'],\n",
        "  'E': ['B', 'N', 'C'],\n",
        "  'F': ['B', 'C', 'G', 'I'],\n",
        "  'G': ['F', 'I', 'J'],\n",
        "  'I': ['C', 'F', 'J', 'G', 'K'],\n",
        "  'J': ['I', 'G', 'K'],\n",
        "  'K': ['D', 'I', 'J'],\n",
        "  'L': ['D', 'P', 'M'],\n",
        "  'M': ['C', 'N', 'P', 'O'],\n",
        "  'N': ['M', 'O'],\n",
        "  'O': ['M', 'N', 'P'],\n",
        "  'P': ['O', 'M']\n",
        "}\n",
        "g = graph(graph_elements)\n",
        "print(g.getVertices())"
      ],
      "metadata": {
        "colab": {
          "base_uri": "https://localhost:8080/"
        },
        "id": "xxzXVK_5fW08",
        "outputId": "09bc98d1-4c65-4d90-95e4-f70ff1a8b6ea"
      },
      "execution_count": 27,
      "outputs": [
        {
          "output_type": "stream",
          "name": "stdout",
          "text": [
            "['A', 'B', 'C', 'D', 'E', 'F', 'G', 'I', 'J', 'K', 'L', 'M', 'N', 'O', 'P']\n"
          ]
        }
      ]
    }
  ]
}