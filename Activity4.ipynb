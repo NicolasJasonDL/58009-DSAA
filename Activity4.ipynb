{
  "nbformat": 4,
  "nbformat_minor": 0,
  "metadata": {
    "colab": {
      "provenance": [],
      "authorship_tag": "ABX9TyO3TuvyrDkqtbB7R3kcSsNa",
      "include_colab_link": true
    },
    "kernelspec": {
      "name": "python3",
      "display_name": "Python 3"
    },
    "language_info": {
      "name": "python"
    }
  },
  "cells": [
    {
      "cell_type": "markdown",
      "metadata": {
        "id": "view-in-github",
        "colab_type": "text"
      },
      "source": [
        "<a href=\"https://colab.research.google.com/github/NicolasJasonDL/58009-DSAA/blob/main/Activity4.ipynb\" target=\"_parent\"><img src=\"https://colab.research.google.com/assets/colab-badge.svg\" alt=\"Open In Colab\"/></a>"
      ]
    },
    {
      "cell_type": "code",
      "execution_count": null,
      "metadata": {
        "colab": {
          "base_uri": "https://localhost:8080/"
        },
        "id": "7irWXaf6xYAu",
        "outputId": "238c60a1-0713-40bf-9903-7264950f5b0c"
      },
      "outputs": [
        {
          "output_type": "stream",
          "name": "stdout",
          "text": [
            "Initial Cinema Sits Available:\n",
            "['A4', 'B5', 'C6', 'D3', 'F1', 'G7', 'H8'] \n",
            "\n",
            "Sits bought by first customer:\n",
            " A4 B5 \n",
            "\n",
            "Sits available:\n",
            " C6 D3 F1 G7 H8 \n",
            "\n",
            "Sits bought by next customer:\n",
            " C6 \n",
            "\n",
            "Sits available:\n",
            " D3 F1 G7 H8 \n",
            "\n",
            "Sits bought by last customer:\n",
            " D3 F1 G7 \n",
            "\n",
            "Sits available now:\n",
            "H8\n"
          ]
        }
      ],
      "source": [
        "ticket = []\n",
        "\n",
        "ticket.append('A4')\n",
        "ticket.append('B5')\n",
        "ticket.append('C6')\n",
        "ticket.append('D3')\n",
        "ticket.append('F1')\n",
        "ticket.append('G7')\n",
        "ticket.append('H8')\n",
        "\n",
        "print(\"Initial Cinema Sits Available:\")\n",
        "print(ticket, \"\\n\")\n",
        "\n",
        "print(\"Sits bought by first customer:\\n\", ticket.pop(0), ticket.pop(0), \"\\n\")\n",
        "print(\"Sits available:\\n\", ticket[0], ticket[1], ticket[2], ticket[3], ticket[4], \"\\n\")\n",
        "print(\"Sits bought by next customer:\\n\", ticket.pop(0), \"\\n\")\n",
        "print(\"Sits available:\\n\", ticket[0], ticket[1], ticket[2], ticket[3], \"\\n\")\n",
        "print(\"Sits bought by last customer:\\n\", ticket.pop(0), ticket.pop(0), ticket.pop(0),\"\\n\")\n",
        "print(\"Sits available now:\")\n",
        "\n",
        "last = ticket[0]\n",
        "print(last)"
      ]
    }
  ]
}