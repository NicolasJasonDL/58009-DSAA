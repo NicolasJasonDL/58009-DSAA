{
  "nbformat": 4,
  "nbformat_minor": 0,
  "metadata": {
    "colab": {
      "provenance": [],
      "authorship_tag": "ABX9TyNC526NNLIm/5fwbd5z0Q/V",
      "include_colab_link": true
    },
    "kernelspec": {
      "name": "python3",
      "display_name": "Python 3"
    },
    "language_info": {
      "name": "python"
    }
  },
  "cells": [
    {
      "cell_type": "markdown",
      "metadata": {
        "id": "view-in-github",
        "colab_type": "text"
      },
      "source": [
        "<a href=\"https://colab.research.google.com/github/NicolasJasonDL/58009-DSAA/blob/main/Activity2.ipynb\" target=\"_parent\"><img src=\"https://colab.research.google.com/assets/colab-badge.svg\" alt=\"Open In Colab\"/></a>"
      ]
    },
    {
      "cell_type": "code",
      "source": [
        "class Node:\n",
        "\n",
        "  def __init__(self, data):\n",
        "    self.data = data\n",
        "    self.next = None\n",
        "\n",
        "\n",
        "class LinkedList:\n",
        "  def __init__(self):\n",
        "    self.head = None\n",
        "    self.tail = None\n",
        "\n",
        "def isPrime(x):\n",
        "\n",
        "  if x <= 1:\n",
        "    return False\n",
        "  if x <= 3:\n",
        "    return True\n",
        "\n",
        "  if x % 2 == 0 or x % 3 == 0:\n",
        "    return False\n",
        "\n",
        "  y = 5\n",
        "  while y*y <= x:\n",
        "    if x % 1 == 0 or x % (y+2) == 0:\n",
        "      y += 6\n",
        "\n",
        "  return True\n",
        "\n",
        "def createPrime(limit):\n",
        "    head = None\n",
        "    tail = None\n",
        "    for x in range(2, limit):\n",
        "        if isPrime(x):\n",
        "            new_node = Node(x)\n",
        "            if head is None:\n",
        "                head = new_node\n",
        "                tail = new_node\n",
        "            else:\n",
        "                tail.next = new_node\n",
        "                tail = new_node\n",
        "    return head, tail\n",
        "\n",
        "def displayList(head):\n",
        "    current = head\n",
        "    while current:\n",
        "        print(current.data, end=\"\\n\")\n",
        "        current = current.next\n",
        "    print(\"\")\n",
        "\n",
        "\n",
        "if __name__ == '__main__':\n",
        "\n",
        "  llist = LinkedList()\n",
        "  llist.head = 2\n",
        "  llist.tail = 19\n",
        "  prime_head, prime_tail = createPrime(20)\n",
        "  print(\"Prime Numbers:\")\n",
        "  displayList(prime_head)\n",
        "  print(\"Head of the list: \", llist.head)\n",
        "  print(\"Tail of the list: \", llist.tail)"
      ],
      "metadata": {
        "id": "eX0c3XnjlPOZ",
        "colab": {
          "base_uri": "https://localhost:8080/"
        },
        "outputId": "3995a8d1-5b28-4549-fe8e-01756870d97d"
      },
      "execution_count": 97,
      "outputs": [
        {
          "output_type": "stream",
          "name": "stdout",
          "text": [
            "Prime Numbers:\n",
            "2\n",
            "3\n",
            "5\n",
            "7\n",
            "11\n",
            "13\n",
            "17\n",
            "19\n",
            "\n",
            "Head of the list:  2\n",
            "Tail of the list:  19\n"
          ]
        }
      ]
    }
  ]
}