{
  "nbformat": 4,
  "nbformat_minor": 0,
  "metadata": {
    "colab": {
      "provenance": [],
      "authorship_tag": "ABX9TyMnw7lp+DR1aNBAQWwDa+J8",
      "include_colab_link": true
    },
    "kernelspec": {
      "name": "python3",
      "display_name": "Python 3"
    },
    "language_info": {
      "name": "python"
    }
  },
  "cells": [
    {
      "cell_type": "markdown",
      "metadata": {
        "id": "view-in-github",
        "colab_type": "text"
      },
      "source": [
        "<a href=\"https://colab.research.google.com/github/NicolasJasonDL/58009-DSAA/blob/main/Queues.ipynb\" target=\"_parent\"><img src=\"https://colab.research.google.com/assets/colab-badge.svg\" alt=\"Open In Colab\"/></a>"
      ]
    },
    {
      "cell_type": "code",
      "execution_count": null,
      "metadata": {
        "colab": {
          "base_uri": "https://localhost:8080/"
        },
        "id": "KTKdKy9IooKO",
        "outputId": "1f7e2ace-2f20-4efe-e8bb-6afd9c93a67b"
      },
      "outputs": [
        {
          "output_type": "stream",
          "name": "stdout",
          "text": [
            "['A', 'B', 'C']\n",
            "A\n",
            "B\n",
            "['C']\n"
          ]
        }
      ],
      "source": [
        "queue = []\n",
        "\n",
        "queue.append('A')\n",
        "queue.append('B')\n",
        "queue.append('C')\n",
        "\n",
        "print(queue)\n",
        "\n",
        "print(queue.pop(0))\n",
        "print(queue.pop(0))\n",
        "\n",
        "print(queue)"
      ]
    },
    {
      "cell_type": "code",
      "source": [
        "queue = []\n",
        "\n",
        "queue.append('A')\n",
        "queue.append('B')\n",
        "queue.append('C')\n",
        "queue.append('D')\n",
        "queue.append('E')\n",
        "queue.append('F')\n",
        "queue.append('G')\n",
        "queue.append('H')\n",
        "queue.append('I')\n",
        "queue.append('J')\n",
        "queue.append('K')\n",
        "queue.append('L')\n",
        "queue.append('M')\n",
        "queue.append('N')\n",
        "queue.append('O')\n",
        "queue.append('P')\n",
        "queue.append('Q')\n",
        "queue.append('R')\n",
        "queue.append('S')\n",
        "queue.append('T')\n",
        "queue.append('U')\n",
        "queue.append('V')\n",
        "queue.append('W')\n",
        "queue.append('X')\n",
        "queue.append('Y')\n",
        "queue.append('Z')\n",
        "\n",
        "\n",
        "print(queue)\n",
        "\n",
        "print(queue.pop(0))\n",
        "print(queue.pop(0))\n",
        "print(queue.pop(0))\n",
        "print(queue.pop(0))\n",
        "print(queue.pop(0))\n",
        "print(queue.pop(0))\n",
        "print(queue.pop(0))\n",
        "print(queue.pop(0))\n",
        "print(queue.pop(0))\n",
        "print(queue.pop(0))\n",
        "print(queue.pop(0))\n",
        "print(queue.pop(0))\n",
        "print(queue.pop(0))\n",
        "print(queue.pop(0))\n",
        "print(queue.pop(0))\n",
        "print(queue.pop(0))\n",
        "print(queue.pop(0))\n",
        "print(queue.pop(0))\n",
        "print(queue.pop(0))\n",
        "print(queue.pop(0))\n",
        "print(queue.pop(0))\n",
        "print(queue.pop(0))\n",
        "print(queue.pop(0))\n",
        "print(queue.pop(0))\n",
        "print(queue.pop(0))\n",
        "\n",
        "print(queue)"
      ],
      "metadata": {
        "colab": {
          "base_uri": "https://localhost:8080/"
        },
        "id": "elzCrC60o7by",
        "outputId": "238c51db-d409-4754-8194-931be5bebc4a"
      },
      "execution_count": null,
      "outputs": [
        {
          "output_type": "stream",
          "name": "stdout",
          "text": [
            "['A', 'B', 'C', 'D', 'E', 'F', 'G', 'H', 'I', 'J', 'K', 'L', 'M', 'N', 'O', 'P', 'Q', 'R', 'S', 'T', 'U', 'V', 'W', 'X', 'Y', 'Z']\n",
            "A\n",
            "B\n",
            "C\n",
            "D\n",
            "E\n",
            "F\n",
            "G\n",
            "H\n",
            "I\n",
            "J\n",
            "K\n",
            "L\n",
            "M\n",
            "N\n",
            "O\n",
            "P\n",
            "Q\n",
            "R\n",
            "S\n",
            "T\n",
            "U\n",
            "V\n",
            "W\n",
            "X\n",
            "Y\n",
            "['Z']\n"
          ]
        }
      ]
    }
  ]
}