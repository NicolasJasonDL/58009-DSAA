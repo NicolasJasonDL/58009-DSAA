{
  "nbformat": 4,
  "nbformat_minor": 0,
  "metadata": {
    "colab": {
      "provenance": [],
      "authorship_tag": "ABX9TyN57Tjev/bEv0dk64CCm09c",
      "include_colab_link": true
    },
    "kernelspec": {
      "name": "python3",
      "display_name": "Python 3"
    },
    "language_info": {
      "name": "python"
    }
  },
  "cells": [
    {
      "cell_type": "markdown",
      "metadata": {
        "id": "view-in-github",
        "colab_type": "text"
      },
      "source": [
        "<a href=\"https://colab.research.google.com/github/NicolasJasonDL/58009-DSAA/blob/main/Long%20Quiz%201.ipynb\" target=\"_parent\"><img src=\"https://colab.research.google.com/assets/colab-badge.svg\" alt=\"Open In Colab\"/></a>"
      ]
    },
    {
      "cell_type": "code",
      "execution_count": null,
      "metadata": {
        "colab": {
          "base_uri": "https://localhost:8080/"
        },
        "id": "iR6lffwV51hv",
        "outputId": "9cd7dbd5-a3e5-4649-a641-a2998f0d9c16"
      },
      "outputs": [
        {
          "output_type": "stream",
          "name": "stdout",
          "text": [
            "['S', 'A', 'L', 'O', 'C', 'I', 'N', 'N', 'O', 'S', 'A', 'J']\n"
          ]
        }
      ],
      "source": [
        "from array import *\n",
        "\n",
        "name = []\n",
        "\n",
        "name.append('J')\n",
        "name.append('A')\n",
        "name.append('S')\n",
        "name.append('O')\n",
        "name.append('N')\n",
        "name.append('N')\n",
        "name.append('I')\n",
        "name.append('C')\n",
        "name.append('O')\n",
        "name.append('L')\n",
        "name.append('A')\n",
        "name.append('S')\n",
        "\n",
        "name.reverse()\n",
        "print(name)"
      ]
    },
    {
      "cell_type": "code",
      "source": [
        "from array import *\n",
        "\n",
        "def CompositeOrPrime(x):\n",
        "\n",
        "  if x == 1:\n",
        "    return True\n",
        "  if x <= 1:\n",
        "    return False\n",
        "  if x == 2:\n",
        "    return True\n",
        "\n",
        "  if x % 2 == 0:\n",
        "    return False\n",
        "\n",
        "  else:\n",
        "    for y in range(3, int(x**0.5)+ 1, 2):\n",
        "      if x % 1 == 0 or x % (y+2) == 0:\n",
        "        return False\n",
        "    return True\n",
        "\n",
        "for z in range(1, 11):\n",
        "  if CompositeOrPrime(z):\n",
        "    print(f\"{z} is a prime number.\")\n",
        "  else:\n",
        "    print(f\"{z} is a composite number.\")"
      ],
      "metadata": {
        "colab": {
          "base_uri": "https://localhost:8080/"
        },
        "id": "Nt7v0oRj6hv_",
        "outputId": "26c86276-20d6-4f0f-962b-3bc9e5f11b6f"
      },
      "execution_count": 80,
      "outputs": [
        {
          "output_type": "stream",
          "name": "stdout",
          "text": [
            "1 is a prime number.\n",
            "2 is a prime number.\n",
            "3 is a prime number.\n",
            "4 is a composite number.\n",
            "5 is a prime number.\n",
            "6 is a composite number.\n",
            "7 is a prime number.\n",
            "8 is a composite number.\n",
            "9 is a composite number.\n",
            "10 is a composite number.\n"
          ]
        }
      ]
    }
  ]
}