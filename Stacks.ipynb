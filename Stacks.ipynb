{
  "nbformat": 4,
  "nbformat_minor": 0,
  "metadata": {
    "colab": {
      "provenance": [],
      "authorship_tag": "ABX9TyODr0cvZcqww69nUah3EQgx",
      "include_colab_link": true
    },
    "kernelspec": {
      "name": "python3",
      "display_name": "Python 3"
    },
    "language_info": {
      "name": "python"
    }
  },
  "cells": [
    {
      "cell_type": "markdown",
      "metadata": {
        "id": "view-in-github",
        "colab_type": "text"
      },
      "source": [
        "<a href=\"https://colab.research.google.com/github/NicolasJasonDL/58009-DSAA/blob/main/Stacks.ipynb\" target=\"_parent\"><img src=\"https://colab.research.google.com/assets/colab-badge.svg\" alt=\"Open In Colab\"/></a>"
      ]
    },
    {
      "cell_type": "code",
      "source": [
        "# Stack implementation in python\n",
        "\n",
        "# Creating a stack\n",
        "\n",
        "def create_stack():\n",
        "  stack = []\n",
        "  return stack\n",
        "\n",
        "# Creating an empty stack\n",
        "\n",
        "def is_empty(stack):\n",
        "  return len(stack) == 0\n",
        "\n",
        "# Adding items into the stack\n",
        "\n",
        "def push(stack, item):\n",
        "    stack.append(item)\n",
        "    print(\"Pushed Element: \" + item)\n",
        "\n",
        "# Removing an element from the stack\n",
        "\n",
        "def pop(stack):\n",
        "  if (is_empty(stack)):\n",
        "    return \"The stack is empty\"\n",
        "    return stack.pop()\n",
        "\n",
        "stack = create_stack()\n",
        "push(stack, str(1))\n",
        "push(stack, str(2))\n",
        "push(stack, str(3))\n",
        "push(stack, str(4))\n",
        "push(stack, str(5))\n",
        "print(\"The elements in the stack are:\"+ str(stack))\n",
        "\n",
        "# Question for 4\n",
        "print(\"The element of the stack is: \", len(stack))\n",
        "\n",
        "# Question for 3\n",
        "print(\"The following elements are popped:\")\n",
        "print(stack.pop())\n",
        "print(stack.pop())\n",
        "print(stack.pop())"
      ],
      "metadata": {
        "colab": {
          "base_uri": "https://localhost:8080/"
        },
        "id": "lvcWOKUB2W96",
        "outputId": "540d57de-4b33-40c0-b27e-6ef04103a624"
      },
      "execution_count": 30,
      "outputs": [
        {
          "output_type": "stream",
          "name": "stdout",
          "text": [
            "Pushed Element: 1\n",
            "Pushed Element: 2\n",
            "Pushed Element: 3\n",
            "Pushed Element: 4\n",
            "Pushed Element: 5\n",
            "The elements in the stack are:['1', '2', '3', '4', '5']\n",
            "The element of the stack is:  5\n",
            "The following elements are popped:\n",
            "5\n",
            "4\n",
            "3\n"
          ]
        }
      ]
    },
    {
      "cell_type": "markdown",
      "source": [
        "Questions:\n",
        "\n",
        "1. Upon typing the codes, what is the name of the abstract data type? How is it implemented?\n",
        "2. What is the output of the codes?\n",
        "3. If you want to type additional codes, what will be the statement to pop 3 elements from the top of the stack?\n",
        "4. If you will revise the codes, what will be the statement to determine the length of the stack? (Note: You may add additional methods to count the no. of elements in the stack)"
      ],
      "metadata": {
        "id": "7KmhBE3P4eQF"
      }
    },
    {
      "cell_type": "markdown",
      "source": [
        "Answers:\n",
        "1. The abstract data type is Stack. It is implemented in the program by by creating an empty array and using pop and push in the stack class.\n",
        "2.\n",
        "\n",
        "The output of the program is:\n",
        "\n",
        "Pushed Element: 1\n",
        "\n",
        "Pushed Element: 2\n",
        "\n",
        "Pushed Element: 3\n",
        "\n",
        "Pushed Element: 4\n",
        "\n",
        "Pushed Element: 5\n",
        "\n",
        "The elements in the stack are:['1', '2', '3', '4', '5']\n",
        "\n",
        "3.\n",
        "\n",
        "We will add the code:\n",
        "\n",
        "stack.pop()\n",
        "\n",
        "stack.pop()\n",
        "\n",
        "stack.pop()\n",
        "\n",
        "The statement of the popped element are:\n",
        "\n",
        "5\n",
        "\n",
        "4\n",
        "\n",
        "3\n",
        "\n",
        "4. If you will revise the codes, what will be the statement to determine the length of the stack?\n",
        "\n",
        "add print(len(stack)) at the program, the output of it is 5"
      ],
      "metadata": {
        "id": "gqE_tdDA4_k1"
      }
    },
    {
      "cell_type": "code",
      "source": [
        "class Stack:\n",
        "  def __init__(self):\n",
        "    self.stack = []\n",
        "\n",
        "# Use list append method to addelement\n",
        "  def add(self, dataval):\n",
        "    if dataval not in self.stack:\n",
        "      self.stack.append(dataval)\n",
        "      return True\n",
        "    else:\n",
        "      return False\n",
        "\n",
        "# Use list pop method to remove element\n",
        "  def remove(self):\n",
        "    if len(self.stack) <= 0:\n",
        "      return(\"No element in the Stack\")\n",
        "    else:\n",
        "      return self.stack.pop()\n",
        "\n",
        "AStack = Stack()\n",
        "AStack.add(\"Mon\")\n",
        "AStack.add(\"Tue\")\n",
        "AStack.add(\"Wen\")\n",
        "AStack.add(\"Thu\")\n",
        "AStack.add(\"Fri\")\n",
        "AStack.add(\"Sat\")\n",
        "AStack.add(\"Sun\")\n",
        "print(AStack.stack)\n",
        "print(AStack.remove())\n",
        "print(AStack.remove())\n",
        "print(AStack.remove())\n",
        "print(AStack.remove())\n",
        "print(AStack.remove())\n",
        "print(AStack.remove())\n",
        "print(AStack.remove())\n",
        "print(AStack.remove())\n",
        "print(AStack.stack)"
      ],
      "metadata": {
        "colab": {
          "base_uri": "https://localhost:8080/"
        },
        "id": "Xm0XN-Fj4CmK",
        "outputId": "cccbf02c-198c-4750-f95b-f6330a037f16"
      },
      "execution_count": 18,
      "outputs": [
        {
          "output_type": "stream",
          "name": "stdout",
          "text": [
            "['Mon', 'Tue', 'Wen', 'Thu', 'Fri', 'Sat', 'Sun']\n",
            "Sun\n",
            "Sat\n",
            "Fri\n",
            "Thu\n",
            "Wen\n",
            "Tue\n",
            "Mon\n",
            "No element in the Stack\n",
            "[]\n"
          ]
        }
      ]
    }
  ]
}