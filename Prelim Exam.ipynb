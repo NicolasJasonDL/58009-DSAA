{
  "nbformat": 4,
  "nbformat_minor": 0,
  "metadata": {
    "colab": {
      "provenance": [],
      "authorship_tag": "ABX9TyNwXHq/Pyao41AhfiqnIdgi",
      "include_colab_link": true
    },
    "kernelspec": {
      "name": "python3",
      "display_name": "Python 3"
    },
    "language_info": {
      "name": "python"
    }
  },
  "cells": [
    {
      "cell_type": "markdown",
      "metadata": {
        "id": "view-in-github",
        "colab_type": "text"
      },
      "source": [
        "<a href=\"https://colab.research.google.com/github/NicolasJasonDL/58009-DSAA/blob/main/Prelim%20Exam.ipynb\" target=\"_parent\"><img src=\"https://colab.research.google.com/assets/colab-badge.svg\" alt=\"Open In Colab\"/></a>"
      ]
    },
    {
      "cell_type": "code",
      "execution_count": 36,
      "metadata": {
        "colab": {
          "base_uri": "https://localhost:8080/"
        },
        "id": "qWF70DnmKJ5O",
        "outputId": "8aa0b790-ac8f-4769-d2da-bf375f5a2645"
      },
      "outputs": [
        {
          "output_type": "stream",
          "name": "stdout",
          "text": [
            "The total score is:  397\n"
          ]
        }
      ],
      "source": [
        "from array import *\n",
        "\n",
        "TestScores = [26, 49, 98, 87, 62, 75]\n",
        "TotalScores = sum(TestScores)\n",
        "\n",
        "print(\"The total score is: \", TotalScores)"
      ]
    },
    {
      "cell_type": "code",
      "source": [
        "Scores = [26, 49, 98, 87, 62, 75]\n",
        "\n",
        "Scores.sort()\n",
        "\n",
        "print(\"Test Scores in ascending order:\", Scores)"
      ],
      "metadata": {
        "colab": {
          "base_uri": "https://localhost:8080/"
        },
        "id": "wwbq_vUjPvQN",
        "outputId": "cdd18e39-5f76-42a5-eb6a-45b3acf1d73b"
      },
      "execution_count": 37,
      "outputs": [
        {
          "output_type": "stream",
          "name": "stdout",
          "text": [
            "Test Scores in ascending order: [26, 49, 62, 75, 87, 98]\n"
          ]
        }
      ]
    }
  ]
}