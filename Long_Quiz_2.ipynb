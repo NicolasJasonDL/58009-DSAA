{
  "nbformat": 4,
  "nbformat_minor": 0,
  "metadata": {
    "colab": {
      "provenance": [],
      "authorship_tag": "ABX9TyNduijbiLC3gTeHMXBcfY4T",
      "include_colab_link": true
    },
    "kernelspec": {
      "name": "python3",
      "display_name": "Python 3"
    },
    "language_info": {
      "name": "python"
    }
  },
  "cells": [
    {
      "cell_type": "markdown",
      "metadata": {
        "id": "view-in-github",
        "colab_type": "text"
      },
      "source": [
        "<a href=\"https://colab.research.google.com/github/NicolasJasonDL/58009-DSAA/blob/main/Long_Quiz_2.ipynb\" target=\"_parent\"><img src=\"https://colab.research.google.com/assets/colab-badge.svg\" alt=\"Open In Colab\"/></a>"
      ]
    },
    {
      "cell_type": "code",
      "execution_count": 3,
      "metadata": {
        "colab": {
          "base_uri": "https://localhost:8080/"
        },
        "id": "uRj-1U8rx1gK",
        "outputId": "05673292-f684-4125-8826-e99e2878d4c0"
      },
      "outputs": [
        {
          "output_type": "stream",
          "name": "stdout",
          "text": [
            "[{'E', 'I'}, {'E', 'J'}, {'E', 'K'}, {'E', 'M'}, {'F', 'I'}, {'F', 'K'}, {'P', 'F'}, {'H', 'I'}, {'H', 'J'}, {'H', 'K'}, {'F', 'J'}]\n"
          ]
        }
      ],
      "source": [
        "#Display Graph Edges\n",
        "\n",
        "class graph:\n",
        "   def __init__(self,gdict=None):\n",
        "      if gdict is None:\n",
        "         gdict = {}\n",
        "      self.gdict = gdict\n",
        "\n",
        "   def edges(self):\n",
        "      return self.findedges()\n",
        "# Find the distinct list of edges\n",
        "   def findedges(self):\n",
        "      edgename = []\n",
        "      for vrtx in self.gdict:\n",
        "         for nxtvrtx in self.gdict[vrtx]:\n",
        "            if {nxtvrtx, vrtx} not in edgename:\n",
        "               edgename.append({vrtx, nxtvrtx})\n",
        "      return edgename\n",
        "# Create the dictionary with graph elements\n",
        "graph_elements = {\n",
        "\n",
        "\n",
        "   \"E\" : ['I', 'J', 'K', 'M'],\n",
        "   \"F\" : ['I', 'K', 'P'],\n",
        "   \"H\" : ['I', 'J', 'K'],\n",
        "   \"I\" : ['E', 'F', 'H'],\n",
        "   \"J\" : ['E', 'F', 'H'],\n",
        "   \"K\" : ['E', 'F', 'H'],\n",
        "   \"M\" : ['E'],\n",
        "   \"P\" : ['F']\n",
        "\n",
        "}\n",
        "g = graph(graph_elements)\n",
        "print(g.edges())"
      ]
    },
    {
      "cell_type": "code",
      "source": [
        "#Display Graph Vertices\n",
        "\n",
        "class graph:\n",
        "   def __init__(self,gdict=None):\n",
        "      if gdict is None:\n",
        "         gdict = []\n",
        "      self.gdict = gdict\n",
        "# Get the keys of the dictionary\n",
        "   def getVertices(self):\n",
        "      return list(self.gdict.keys())\n",
        "# Create the dictionary with graph elements\n",
        "graph_elements = {\n",
        "\n",
        "   \"E\" : ['I', 'J', 'K', 'M'],\n",
        "   \"F\" : ['I', 'K', 'P'],\n",
        "   \"H\" : ['I', 'J', 'K'],\n",
        "   \"I\" : ['E', 'F', 'H'],\n",
        "   \"J\" : ['E', 'F', 'H'],\n",
        "   \"K\" : ['E', 'F', 'H'],\n",
        "   \"M\" : ['E'],\n",
        "   \"P\" : ['F']\n",
        "\n",
        "}\n",
        "g = graph(graph_elements)\n",
        "print(g.getVertices())"
      ],
      "metadata": {
        "colab": {
          "base_uri": "https://localhost:8080/"
        },
        "id": "Yvs1UOgIyzrS",
        "outputId": "eed79e7d-737f-47cc-9a8f-365b511ea3f5"
      },
      "execution_count": 1,
      "outputs": [
        {
          "output_type": "stream",
          "name": "stdout",
          "text": [
            "['E', 'F', 'H', 'I', 'J', 'K', 'M', 'P']\n"
          ]
        }
      ]
    }
  ]
}